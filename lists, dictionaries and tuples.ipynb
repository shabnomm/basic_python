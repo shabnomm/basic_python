{
 "cells": [
  {
   "cell_type": "markdown",
   "id": "a7aa5357",
   "metadata": {},
   "source": [
    "#### Let us say your expense for every month are listed below,\n",
    "January - 2200\n",
    "February - 2350\n",
    "March - 2600\n",
    "April - 2130\n",
    "May - 2190\n",
    "1. In Feb, how many dollars you spent extra compare to January? \n",
    "2. Find out your total expense in first quarter (first three months) of the year. \n",
    "3. Find out if you spent exactly 2000 dollars in any month. \n",
    "4. June month just finished and your expense is 1980 dollar. Add this item to our monthly expense list. \n",
    "5. You returned an item that you bought in a month of April and got a refund of 200 dollars. Make a correction to your monthly expense list based on this."
   ]
  },
  {
   "cell_type": "code",
   "execution_count": 16,
   "id": "421df626",
   "metadata": {},
   "outputs": [
    {
     "name": "stdout",
     "output_type": "stream",
     "text": [
      "in feb this much extra was spent compared to jan- 150\n"
     ]
    }
   ],
   "source": [
    "#1\n",
    "exp=[2200,2350,2600,2130,2190]\n",
    "print('in feb this much extra was spent compared to jan-', exp[1]-exp[0])"
   ]
  },
  {
   "cell_type": "code",
   "execution_count": 17,
   "id": "9378884f",
   "metadata": {},
   "outputs": [
    {
     "name": "stdout",
     "output_type": "stream",
     "text": [
      " total expense in first quarter of the year 7150\n"
     ]
    }
   ],
   "source": [
    "#2\n",
    "print(' total expense in first quarter of the year', exp[0]+exp[1]+exp[2])"
   ]
  },
  {
   "cell_type": "code",
   "execution_count": 20,
   "id": "619291c1",
   "metadata": {},
   "outputs": [
    {
     "name": "stdout",
     "output_type": "stream",
     "text": [
      "false\n"
     ]
    }
   ],
   "source": [
    "#3\n",
    "exp=[2200,2350,2600,2130,2190]\n",
    "\n",
    "if exp==2200:\n",
    "    print('true')\n",
    "else:\n",
    "    print('false')\n"
   ]
  },
  {
   "cell_type": "code",
   "execution_count": 23,
   "id": "60ef2e54",
   "metadata": {},
   "outputs": [
    {
     "data": {
      "text/plain": [
       "True"
      ]
     },
     "execution_count": 23,
     "metadata": {},
     "output_type": "execute_result"
    }
   ],
   "source": [
    "True"
   ]
  },
  {
   "cell_type": "code",
   "execution_count": 24,
   "id": "7616f7c3",
   "metadata": {},
   "outputs": [
    {
     "data": {
      "text/plain": [
       "False"
      ]
     },
     "execution_count": 24,
     "metadata": {},
     "output_type": "execute_result"
    }
   ],
   "source": [
    "False"
   ]
  },
  {
   "cell_type": "code",
   "execution_count": 25,
   "id": "14a42a14",
   "metadata": {},
   "outputs": [
    {
     "data": {
      "text/plain": [
       "False"
      ]
     },
     "execution_count": 25,
     "metadata": {},
     "output_type": "execute_result"
    }
   ],
   "source": [
    "exp==2000"
   ]
  },
  {
   "cell_type": "code",
   "execution_count": 29,
   "id": "3cf5d32d",
   "metadata": {},
   "outputs": [
    {
     "name": "stdout",
     "output_type": "stream",
     "text": [
      "True\n"
     ]
    }
   ],
   "source": [
    "print(exp!=2000)"
   ]
  },
  {
   "cell_type": "code",
   "execution_count": 30,
   "id": "9d3e1d51",
   "metadata": {},
   "outputs": [],
   "source": [
    "#4\n",
    "exp.append(1980)"
   ]
  },
  {
   "cell_type": "code",
   "execution_count": 31,
   "id": "82d100d3",
   "metadata": {},
   "outputs": [
    {
     "data": {
      "text/plain": [
       "[2200, 2350, 2600, 2130, 2190, 1980]"
      ]
     },
     "execution_count": 31,
     "metadata": {},
     "output_type": "execute_result"
    }
   ],
   "source": [
    "exp"
   ]
  },
  {
   "cell_type": "code",
   "execution_count": 34,
   "id": "734dcaef",
   "metadata": {},
   "outputs": [],
   "source": [
    "#5 \n",
    "exp[3]=exp[3]+200"
   ]
  },
  {
   "cell_type": "code",
   "execution_count": 35,
   "id": "f7972f7b",
   "metadata": {},
   "outputs": [
    {
     "data": {
      "text/plain": [
       "[2200, 2350, 2600, 2530, 2190, 1980]"
      ]
     },
     "execution_count": 35,
     "metadata": {},
     "output_type": "execute_result"
    }
   ],
   "source": [
    "exp"
   ]
  },
  {
   "cell_type": "markdown",
   "id": "184f3618",
   "metadata": {},
   "source": [
    "#### . You have a list of your favourite marvel super heros.\n",
    "```\n",
    "heros=['spider man','thor','hulk','iron man','captain america']\n",
    "```\n",
    "\n",
    "Using this find out,\n",
    "\n",
    "    1. Length of the list\n",
    "    2. Add 'black panther' at the end of this list\n",
    "    3. You realize that you need to add 'black panther' after 'hulk',\n",
    "       so remove it from the list first and then add it after 'hulk'\n",
    "    4. Now you don't like thor and hulk because they get angry easily :)\n",
    "       So you want to remove thor and hulk from list and replace them with doctor strange (because he is cool).\n",
    "       Do that with one line of code.\n",
    "    5. Sort the heros list in alphabetical order (Hint. Use dir() functions to list down all functions available in list)\n",
    "\n",
    "\n"
   ]
  },
  {
   "cell_type": "code",
   "execution_count": 36,
   "id": "c008b3dc",
   "metadata": {},
   "outputs": [
    {
     "name": "stdout",
     "output_type": "stream",
     "text": [
      "5\n"
     ]
    }
   ],
   "source": [
    "#1\n",
    "heros=['spider man','thor','hulk','iron man','captain america']\n",
    "print(len(heros))"
   ]
  },
  {
   "cell_type": "code",
   "execution_count": 58,
   "id": "2633618b",
   "metadata": {},
   "outputs": [],
   "source": [
    "#2\n",
    "heros=['spider man','thor','hulk','iron man','captain america']\n",
    "heros.append('black panther')"
   ]
  },
  {
   "cell_type": "code",
   "execution_count": 59,
   "id": "f4d22968",
   "metadata": {},
   "outputs": [
    {
     "data": {
      "text/plain": [
       "['spider man', 'thor', 'hulk', 'iron man', 'captain america', 'black panther']"
      ]
     },
     "execution_count": 59,
     "metadata": {},
     "output_type": "execute_result"
    }
   ],
   "source": [
    "heros"
   ]
  },
  {
   "cell_type": "code",
   "execution_count": 60,
   "id": "33e713a9",
   "metadata": {},
   "outputs": [],
   "source": [
    "#3\n",
    "heros.remove('black panther')\n",
    "heros.insert(3,'black panther')"
   ]
  },
  {
   "cell_type": "code",
   "execution_count": 61,
   "id": "163f0497",
   "metadata": {},
   "outputs": [
    {
     "data": {
      "text/plain": [
       "['spider man', 'thor', 'hulk', 'black panther', 'iron man', 'captain america']"
      ]
     },
     "execution_count": 61,
     "metadata": {},
     "output_type": "execute_result"
    }
   ],
   "source": [
    "heros"
   ]
  },
  {
   "cell_type": "code",
   "execution_count": 62,
   "id": "0556cef7",
   "metadata": {},
   "outputs": [],
   "source": [
    "#4\n",
    "heros[1:3]=['doctor strange']"
   ]
  },
  {
   "cell_type": "code",
   "execution_count": 63,
   "id": "54aa2611",
   "metadata": {},
   "outputs": [
    {
     "data": {
      "text/plain": [
       "['spider man',\n",
       " 'doctor strange',\n",
       " 'black panther',\n",
       " 'iron man',\n",
       " 'captain america']"
      ]
     },
     "execution_count": 63,
     "metadata": {},
     "output_type": "execute_result"
    }
   ],
   "source": [
    "heros"
   ]
  },
  {
   "cell_type": "code",
   "execution_count": 64,
   "id": "36399bb4",
   "metadata": {},
   "outputs": [
    {
     "data": {
      "text/plain": [
       "'iron man'"
      ]
     },
     "execution_count": 64,
     "metadata": {},
     "output_type": "execute_result"
    }
   ],
   "source": [
    "heros[3]"
   ]
  },
  {
   "cell_type": "code",
   "execution_count": 65,
   "id": "56159da2",
   "metadata": {},
   "outputs": [
    {
     "data": {
      "text/plain": [
       "['iron man', 'captain america']"
      ]
     },
     "execution_count": 65,
     "metadata": {},
     "output_type": "execute_result"
    }
   ],
   "source": [
    "heros[3:5]"
   ]
  },
  {
   "cell_type": "code",
   "execution_count": 68,
   "id": "a7fd7183",
   "metadata": {},
   "outputs": [],
   "source": [
    "#5\n",
    "heros.sort()"
   ]
  },
  {
   "cell_type": "code",
   "execution_count": 69,
   "id": "486889e9",
   "metadata": {},
   "outputs": [
    {
     "data": {
      "text/plain": [
       "['black panther',\n",
       " 'captain america',\n",
       " 'doctor strange',\n",
       " 'iron man',\n",
       " 'spider man']"
      ]
     },
     "execution_count": 69,
     "metadata": {},
     "output_type": "execute_result"
    }
   ],
   "source": [
    "heros"
   ]
  },
  {
   "cell_type": "code",
   "execution_count": null,
   "id": "62e9ced8",
   "metadata": {},
   "outputs": [],
   "source": []
  },
  {
   "cell_type": "code",
   "execution_count": null,
   "id": "adff7c8a",
   "metadata": {},
   "outputs": [],
   "source": []
  }
 ],
 "metadata": {
  "kernelspec": {
   "display_name": "Python 3 (ipykernel)",
   "language": "python",
   "name": "python3"
  },
  "language_info": {
   "codemirror_mode": {
    "name": "ipython",
    "version": 3
   },
   "file_extension": ".py",
   "mimetype": "text/x-python",
   "name": "python",
   "nbconvert_exporter": "python",
   "pygments_lexer": "ipython3",
   "version": "3.10.9"
  }
 },
 "nbformat": 4,
 "nbformat_minor": 5
}

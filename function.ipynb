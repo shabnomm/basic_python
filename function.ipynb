{
 "cells": [
  {
   "cell_type": "markdown",
   "id": "d5aaa08d",
   "metadata": {},
   "source": [
    "#### Write a function called calculate_area that takes base and height as an input and returns and area of a triangle. Equation of an area of a triangle is,\n",
    "area = (1/2)*base*height"
   ]
  },
  {
   "cell_type": "code",
   "execution_count": 1,
   "id": "96156827",
   "metadata": {},
   "outputs": [
    {
     "name": "stdout",
     "output_type": "stream",
     "text": [
      "input base:5\n",
      "input height:10\n",
      "area of the triangle 25.0\n"
     ]
    }
   ],
   "source": [
    "def calculate_area(b,h):\n",
    "    return 1/2*b*h\n",
    "base=int(input('input base:'))\n",
    "height=int(input('input height:'))\n",
    "result=calculate_area(base, height)\n",
    "\n",
    "print('area of the triangle',result)"
   ]
  },
  {
   "cell_type": "code",
   "execution_count": 4,
   "id": "39f201f8",
   "metadata": {},
   "outputs": [
    {
     "ename": "SyntaxError",
     "evalue": "invalid syntax (3258208196.py, line 2)",
     "output_type": "error",
     "traceback": [
      "\u001b[1;36m  Cell \u001b[1;32mIn[4], line 2\u001b[1;36m\u001b[0m\n\u001b[1;33m    for i=1\u001b[0m\n\u001b[1;37m         ^\u001b[0m\n\u001b[1;31mSyntaxError\u001b[0m\u001b[1;31m:\u001b[0m invalid syntax\n"
     ]
    }
   ],
   "source": [
    "def print_pattern(n=5):\n",
    "    for i=1"
   ]
  },
  {
   "cell_type": "code",
   "execution_count": null,
   "id": "3a45d404",
   "metadata": {},
   "outputs": [],
   "source": []
  }
 ],
 "metadata": {
  "kernelspec": {
   "display_name": "Python 3 (ipykernel)",
   "language": "python",
   "name": "python3"
  },
  "language_info": {
   "codemirror_mode": {
    "name": "ipython",
    "version": 3
   },
   "file_extension": ".py",
   "mimetype": "text/x-python",
   "name": "python",
   "nbconvert_exporter": "python",
   "pygments_lexer": "ipython3",
   "version": "3.10.9"
  }
 },
 "nbformat": 4,
 "nbformat_minor": 5
}

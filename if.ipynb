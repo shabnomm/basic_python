{
 "cells": [
  {
   "cell_type": "markdown",
   "id": "a5902b29",
   "metadata": {},
   "source": [
    "### Using following list of cities per country,\n",
    "india = [\"mumbai\", \"banglore\", \"chennai\", \"delhi\"]\n",
    "\n",
    "pakistan = [\"lahore\",\"karachi\",\"islamabad\"]\n",
    "\n",
    "bangladesh = [\"dhaka\", \"khulna\", \"rangpur\"]\n",
    "1. Write a program that asks user to enter a city name and it should tell which country the city belongs to\n",
    "2. Write a program that asks user to enter two cities and it tells you if they both are in same country or not. For example if I enter mumbai and chennai, it will print \"Both cities are in India\" but if I enter mumbai and dhaka it should print \"They don't belong to same country\""
   ]
  },
  {
   "cell_type": "code",
   "execution_count": 30,
   "id": "2fd4a417",
   "metadata": {},
   "outputs": [
    {
     "name": "stdout",
     "output_type": "stream",
     "text": [
      "enter your city:mumbai\n",
      "mumbai is in india\n"
     ]
    }
   ],
   "source": [
    "india = [\"mumbai\", \"banglore\", \"chennai\", \"delhi\"]\n",
    "pakistan = [\"lahore\",\"karachi\",\"islamabad\"]\n",
    "bangladesh = [\"dhaka\", \"khulna\", \"rangpur\"]\n",
    "city=input('enter your city:')\n",
    "if city in india:\n",
    "    print( f\"{city} is in india\")\n",
    "elif city in pakistan:\n",
    "    print(f\"{city} is in pakistan\")\n",
    "elif city in bangladesh:\n",
    "          print(f\"{city} is in  bangladesh\")\n",
    "                \n",
    "else:\n",
    "             print(f\"i dont know {city} is in country\")"
   ]
  },
  {
   "cell_type": "code",
   "execution_count": 1,
   "id": "efd9ac8f",
   "metadata": {},
   "outputs": [
    {
     "name": "stdout",
     "output_type": "stream",
     "text": [
      "enter your city1:dhaka\n",
      "enter your city2:khulna\n",
      "both cities are in bangladesh\n"
     ]
    }
   ],
   "source": [
    "india = [\"mumbai\", \"banglore\", \"chennai\", \"delhi\"]\n",
    "pakistan = [\"lahore\",\"karachi\",\"islamabad\"]\n",
    "bangladesh = [\"dhaka\", \"khulna\", \"rangpur\"]\n",
    "city1=input('enter your city1:')\n",
    "city2=input('enter your city2:')\n",
    "if city1 in india and city2 in india:\n",
    "    print('both citis are in india')\n",
    "elif city1 in pakistan and city2 in pakistan:\n",
    "        print('both citis are in pakistan')\n",
    "elif city1 in bangladesh and city2 in bangladesh:\n",
    "            print('both cities are in bangladesh')\n",
    "else:\n",
    "            print('they are not same country')"
   ]
  },
  {
   "cell_type": "markdown",
   "id": "05144984",
   "metadata": {},
   "source": [
    "#### Write a python program that can tell you if your sugar is normal or not. Normal fasting level sugar range is 80 to 100.\n",
    "1.Ask user to enter his fasting sugar level\n",
    "\n",
    "2.If it is below 80 to 100 range then print that sugar is low\n",
    "\n",
    "3.If it is above 100 then print that it is high otherwise print that it is normal"
   ]
  },
  {
   "cell_type": "code",
   "execution_count": 2,
   "id": "1a49e80a",
   "metadata": {},
   "outputs": [
    {
     "name": "stdout",
     "output_type": "stream",
     "text": [
      "enter your fasting sugar level:20\n",
      "sugar is low\n"
     ]
    }
   ],
   "source": [
    "sugar_level=float(input('enter your fasting sugar level:'))\n",
    "\n",
    "if sugar_level<80:\n",
    "    print('sugar is low')\n",
    "elif sugar_level>100:\n",
    "    print('sugar is high')\n",
    "else:\n",
    "    print('suger is normal')"
   ]
  },
  {
   "cell_type": "code",
   "execution_count": 3,
   "id": "4a4a4307",
   "metadata": {},
   "outputs": [
    {
     "name": "stdout",
     "output_type": "stream",
     "text": [
      "enter your percentage:20\n",
      "failed\n"
     ]
    }
   ],
   "source": [
    "pr=int(input('enter your percentage:'))\n",
    "if pr<40:\n",
    "    print('failed')\n",
    "elif pr>=40 and pr<55:\n",
    "    print('fair')\n",
    "elif pr>=55 and pr<65:\n",
    "    print('good')\n",
    "elif pr>=65 and pr<=100:\n",
    "    print('excellent')\n",
    "else:\n",
    "    print('enter correct percentage')\n",
    "    "
   ]
  },
  {
   "cell_type": "code",
   "execution_count": null,
   "id": "271c846e",
   "metadata": {},
   "outputs": [],
   "source": []
  }
 ],
 "metadata": {
  "kernelspec": {
   "display_name": "Python 3 (ipykernel)",
   "language": "python",
   "name": "python3"
  },
  "language_info": {
   "codemirror_mode": {
    "name": "ipython",
    "version": 3
   },
   "file_extension": ".py",
   "mimetype": "text/x-python",
   "name": "python",
   "nbconvert_exporter": "python",
   "pygments_lexer": "ipython3",
   "version": "3.10.9"
  }
 },
 "nbformat": 4,
 "nbformat_minor": 5
}
